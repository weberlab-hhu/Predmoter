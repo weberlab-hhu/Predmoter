{
 "cells": [
  {
   "cell_type": "markdown",
   "id": "f250e50a",
   "metadata": {},
   "source": [
    "# Model evaluation"
   ]
  },
  {
   "cell_type": "code",
   "execution_count": 1,
   "id": "686d743f",
   "metadata": {},
   "outputs": [],
   "source": [
    "import os\n",
    "import numpy as np\n",
    "import h5py\n",
    "import copy\n",
    "import matplotlib.pyplot as plt\n",
    "import matplotlib as mpl\n",
    "from mpl_toolkits.axes_grid1 import make_axes_locatable\n",
    "import seaborn as sns"
   ]
  },
  {
   "cell_type": "code",
   "execution_count": 2,
   "id": "e1a585d1",
   "metadata": {},
   "outputs": [],
   "source": [
    "def prep_metrics(prefixes, reps, types, input_dir, epochs=None):\n",
    "    metrics_dict = {}\n",
    "    for i,prefix in enumerate(prefixes):\n",
    "        all_metrics = []\n",
    "        for j in range(reps):\n",
    "            # naming convention example of 3 replicates: 1cnn_metrics.log, 2cnn_metrics.log, 3cnn_metrics.log\n",
    "            path = os.path.join(input_dir, f\"{j+1}{prefix}_metrics.log\")\n",
    "            # 0:epochs, 1: avg_val_loss, 2: avg_val_accuracy, 3: avg_train_loss, 4: avg_train_accuracy\n",
    "            metrics = np.loadtxt(path, skiprows=1)\n",
    "            if epochs is not None:\n",
    "                if epochs < metrics.shape[0]:\n",
    "                    metrics = metrics[:epochs]\n",
    "\n",
    "                elif metrics.shape[0] < epochs: # extend length to concatenate\n",
    "                    add = np.full((epochs-metrics.shape[0],5), fill_value=np.nan, dtype=np.float32)\n",
    "                    metrics = np.concatenate([metrics, add])\n",
    "            all_metrics.append(np.expand_dims(metrics, axis=2))\n",
    "        array = np.concatenate(all_metrics, axis=2)\n",
    "        metrics_dict[types[i]] = array\n",
    "    return metrics_dict"
   ]
  },
  {
   "cell_type": "code",
   "execution_count": 3,
   "id": "01f00459",
   "metadata": {},
   "outputs": [],
   "source": [
    "def get_test_metrics(prefixes, dset, order, input_dir):\n",
    "    all_test_metrics = []\n",
    "    for i, prefix in enumerate(prefixes):\n",
    "        file_path = os.path.join(input_dir, f\"{prefix}_test_metrics.log\")\n",
    "        header = np.loadtxt(file_path, max_rows=1, dtype=str)\n",
    "        idx = np.where(header == f\"{dset}_avg_val_accuracy\")[0]\n",
    "        if len(idx) == 0:\n",
    "            continue\n",
    "        metrics = np.loadtxt(file_path, skiprows=1, usecols=idx)\n",
    "        labels = np.loadtxt(file_path, skiprows=1, usecols=0, dtype=str)\n",
    "        \n",
    "        # reorder the test metrics to the order of the labels in 'order'\n",
    "        test_metrics = []\n",
    "        for species in order:\n",
    "            if species in labels:\n",
    "                idx = np.where(labels==species)[0]\n",
    "                test_metrics.append(metrics[idx])\n",
    "            else:\n",
    "                test_metrics.append(np.array([np.nan]))\n",
    "        all_test_metrics.append(np.concatenate(test_metrics))\n",
    "    return np.stack(all_test_metrics, axis=-1)"
   ]
  },
  {
   "cell_type": "code",
   "execution_count": 4,
   "id": "ac1231bb",
   "metadata": {},
   "outputs": [],
   "source": [
    "def print_stats(metrics_dict):\n",
    "    space = 13\n",
    "    infos = {\"header\": [\"Model name\", \"Best val corr\", \"Epoch\", \"Number\"]}\n",
    "    for key in metrics_dict.keys():\n",
    "        # maximum average validation Pearson correlation of all replicates\n",
    "        max_ = np.nanmax(metrics_dict[key][:, 2])\n",
    "        location = np.where(metrics_dict[key][:,2] == max_)\n",
    "        infos[key] = [key, f\"{max_:.4f}\", str(location[0][0]), str(location[1][0] + 1)]\n",
    "        infos[\"header\"].append(f\"vs. {key}\")\n",
    "    \n",
    "    keys = list(metrics_dict.keys())\n",
    "    for key in keys:\n",
    "        for k in keys:\n",
    "            improvement = ((float(infos[k][1]) - float(infos[key][1]))/float(infos[key][1]))*100\n",
    "            infos[k].append(f\"{improvement:.2f} %\")\n",
    "        \n",
    "    for key in infos.keys():\n",
    "        if key == \"header\":\n",
    "            table(infos[key], space, header=True)\n",
    "        else:\n",
    "            table(infos[key], space)\n",
    "        \n",
    "def table(contents, spacing, header=False):\n",
    "    contents = [f\"{i: <{spacing}}\" if len(i) <= spacing else i[:spacing - 2] + \"..\" for i in contents]\n",
    "    msg = \"|\".join(contents)\n",
    "    if header:\n",
    "        msg = msg + \"\\n\" + \"-\" * len(msg)\n",
    "    print(msg)"
   ]
  },
  {
   "cell_type": "code",
   "execution_count": 5,
   "id": "148357ae",
   "metadata": {},
   "outputs": [],
   "source": [
    "def plot_heatmap(data, cmap, xlabels, ylabels, figsize=(14, 10), dpi=100, yaxis=True, square=True, fsize=19):\n",
    "    fig, ax = plt.subplots(1, sharex=True, figsize=figsize, dpi=dpi)\n",
    "    cmap = copy.copy(mpl.colormaps[cmap])\n",
    "    cmap.set_bad(color=\"silver\")  # NaN values are represented by siver/grey\n",
    "    im = sns.heatmap(ax=ax, data=data, cmap=cmap, vmin=0., vmax=1., square=square, annot=True, fmt=\".4f\",\n",
    "                     cbar_kws={\"ticks\":np.arange(0., 1.1, 0.1), \"pad\": 0.05, \"aspect\":20, \"shrink\": 0.7},\n",
    "                     annot_kws={'family':\"Times New Roman\", 'color':'black', 'fontsize': fsize-2})  # 'fontsize': 12, \n",
    "    ax.set_xticks(np.arange(len(xlabels))+0.5, labels=xlabels, fontname=\"Times New Roman\")\n",
    "    ax.tick_params(axis=\"x\", labelrotation=90, labelsize=fsize)\n",
    "    \n",
    "    ax.set_yticks(np.arange(len(ylabels))+0.5, labels=ylabels, fontname=\"Times New Roman\", style=\"italic\")\n",
    "    ax.tick_params(axis=\"y\", labelrotation=0, labelsize=fsize)\n",
    "    \n",
    "    ax.yaxis.tick_left()\n",
    "    ax.xaxis.tick_bottom()\n",
    "    \n",
    "    # cbar\n",
    "    cbar = im.collections[0].colorbar\n",
    "    cbar.ax.set_ylabel(\"Pearson's r\",rotation=-90, va=\"bottom\", size=fsize+1, fontname=\"Times New Roman\")\n",
    "    cbar.ax.tick_params(labelsize=fsize-2, color=\"black\", direction=\"out\", length=5., pad=0.5, width=1.5)\n",
    "    for l in cbar.ax.yaxis.get_ticklabels():\n",
    "        l.set_family(\"Times New Roman\")\n",
    "\n",
    "    plt.setp(ax.spines.values(), color=None)\n",
    "    plt.show()"
   ]
  },
  {
   "cell_type": "markdown",
   "id": "758f3ff6",
   "metadata": {},
   "source": [
    "## 1. Model overview\n",
    "### 1.1 Replicates\n",
    "Three replicates of each model setup tested were trained. The final test metrics are named after the following\n",
    "convention ``<model_name>_<replicate_number>``. Each replicate number corresponds to a different seed that was used during training.   \n",
    "    \n",
    "|Replicate number|Corresponding seed|\n",
    "|:---------------|:-----------------|\n",
    "| 1              | 132709648        |\n",
    "| 2              | 961333724        |\n",
    "| 3              | 4227086911       |\n",
    "\n",
    "### 1.2 Prefixes\n",
    "|Prefix    |Final model name (best checkpoint and seed)|\n",
    "|:---------|:------------------------------------------|\n",
    "|cnn       |U-Net                                      |\n",
    "|hy        |Hybrid                                     |\n",
    "|bihy      |BiHybrid                                   |\n",
    "|norm_bihy |BiHybrid_02                                |\n",
    "|drop3_bihy|BiHybrid_03.1                              |\n",
    "|drop5_bihy|BiHybrid_03.2                              |\n",
    "|bl        |BiHybrid_04                                |\n",
    "|chip      |BiHybrid_05                                |\n",
    "|combi     |Combined                                   |\n",
    "|+combi    |Combined_02                                |"
   ]
  },
  {
   "cell_type": "markdown",
   "id": "8f084c9d",
   "metadata": {},
   "source": [
    "## 2. Cross-species model evaluation"
   ]
  },
  {
   "cell_type": "code",
   "execution_count": 6,
   "id": "e2bdad17",
   "metadata": {},
   "outputs": [
    {
     "name": "stdout",
     "output_type": "stream",
     "text": [
      "Model name   |Best val corr|Epoch        |Number       |vs. cnn      |vs. hy       |vs. bihy     \n",
      "-------------------------------------------------------------------------------------------------\n",
      "cnn          |0.4125       |6            |3            |0.00 %       |-5.61 %      |-15.54 %     \n",
      "hy           |0.4370       |147          |2            |5.94 %       |0.00 %       |-10.52 %     \n",
      "bihy         |0.4884       |104          |1            |18.40 %      |11.76 %      |0.00 %       \n"
     ]
    }
   ],
   "source": [
    "prefixes = [\"cnn\", \"hy\", \"bihy\"]\n",
    "all_metrics = prep_metrics(prefixes, 3, prefixes, \"../paper/results\", 200) # 3 replicates\n",
    "print_stats(all_metrics)"
   ]
  },
  {
   "cell_type": "code",
   "execution_count": 7,
   "id": "becd7e43",
   "metadata": {},
   "outputs": [
    {
     "name": "stdout",
     "output_type": "stream",
     "text": [
      "Model name   |Best val corr|Epoch        |Number       |vs. bihy     |vs. norm_bihy|vs. drop3_b..|vs. drop5_b..|vs. bl       \n",
      "-----------------------------------------------------------------------------------------------------------------------------\n",
      "bihy         |0.4884       |104          |1            |0.00 %       |-6.38 %      |-8.47 %      |-9.12 %      |-8.25 %      \n",
      "norm_bihy    |0.5217       |36           |1            |6.82 %       |0.00 %       |-2.23 %      |-2.92 %      |-1.99 %      \n",
      "drop3_bihy   |0.5336       |61           |2            |9.25 %       |2.28 %       |0.00 %       |-0.71 %      |0.24 %       \n",
      "drop5_bihy   |0.5374       |53           |2            |10.03 %      |3.01 %       |0.71 %       |0.00 %       |0.96 %       \n",
      "bl           |0.5323       |49           |3            |8.99 %       |2.03 %       |-0.24 %      |-0.95 %      |0.00 %       \n"
     ]
    }
   ],
   "source": [
    "prefixes = [\"bihy\", \"norm_bihy\", \"drop3_bihy\", \"drop5_bihy\", \"bl\"]\n",
    "all_metrics = prep_metrics(prefixes, 3, prefixes, \"../paper/results\", 200) # 3 replicates\n",
    "print_stats(all_metrics)"
   ]
  },
  {
   "cell_type": "code",
   "execution_count": 8,
   "id": "df3e140d",
   "metadata": {},
   "outputs": [
    {
     "name": "stdout",
     "output_type": "stream",
     "text": [
      "Model name   |Best val corr|Epoch        |Number       |vs. drop3_b..|vs. drop5_b..|vs. bl       |vs. combi    \n",
      "---------------------------------------------------------------------------------------------------------------\n",
      "drop3_bihy   |0.5336       |61           |2            |0.00 %       |-0.71 %      |0.24 %       |10.36 %      \n",
      "drop5_bihy   |0.5374       |53           |2            |0.71 %       |0.00 %       |0.96 %       |11.15 %      \n",
      "bl           |0.5323       |49           |3            |-0.24 %      |-0.95 %      |0.00 %       |10.09 %      \n",
      "combi        |0.4835       |20           |3            |-9.39 %      |-10.03 %     |-9.17 %      |0.00 %       \n"
     ]
    }
   ],
   "source": [
    "# the best combi metric is not comparable to the other models as it contains the average of the metrics\n",
    "# for ATAC- and ChIP-seq predictions\n",
    "prefixes = [\"drop3_bihy\", \"drop5_bihy\", \"bl\", \"combi\"]\n",
    "all_metrics = prep_metrics(prefixes, 3, prefixes, \"../paper/results\", 200)\n",
    "print_stats(all_metrics)"
   ]
  },
  {
   "cell_type": "code",
   "execution_count": 9,
   "id": "21727eeb",
   "metadata": {},
   "outputs": [
    {
     "name": "stdout",
     "output_type": "stream",
     "text": [
      "Model name   |Best val corr|Epoch        |Number       |vs. chip     |vs. combi    \n",
      "-----------------------------------------------------------------------------------\n",
      "chip         |0.4387       |2            |1            |0.00 %       |-9.27 %      \n",
      "combi        |0.4835       |20           |3            |10.21 %      |0.00 %       \n"
     ]
    }
   ],
   "source": [
    "# the best combi metric is not comparable to the other models as it contains the average of the metrics\n",
    "# for ATAC- and ChIP-seq predictions\n",
    "prefixes = [\"chip\", \"combi\"]\n",
    "all_metrics = prep_metrics(prefixes, 3, prefixes, \"../paper/results\", 200)\n",
    "print_stats(all_metrics)"
   ]
  },
  {
   "cell_type": "code",
   "execution_count": 10,
   "id": "00b5f8ee",
   "metadata": {},
   "outputs": [
    {
     "name": "stdout",
     "output_type": "stream",
     "text": [
      "Model name   |Best val corr|Epoch        |Number       |vs. combi    |vs. +combi   \n",
      "-----------------------------------------------------------------------------------\n",
      "combi        |0.4835       |20           |3            |0.00 %       |-1.87 %      \n",
      "+combi       |0.4927       |22           |2            |1.90 %       |0.00 %       \n"
     ]
    }
   ],
   "source": [
    "prefixes = [\"combi\", \"+combi\"]\n",
    "all_metrics = prep_metrics(prefixes, 3, prefixes, \"../paper/results\", 200)\n",
    "print_stats(all_metrics)"
   ]
  },
  {
   "cell_type": "code",
   "execution_count": 11,
   "id": "a403b3c5",
   "metadata": {},
   "outputs": [],
   "source": [
    "# evaluate hold-out test set metrics\n",
    "# Results marked with * also excluded flagged subsequences (unplaced scaffolds and non-nuclear sequences).\n",
    "species = [\"Athaliana\", \"Osativa\"]\n",
    "atac_models = [\"U-Net\", \"Hybrid\", \"BiHybrid\", \"BiHybrid_02\", \"BiHybrid_03.1\",\"BiHybrid_03.2\",\n",
    "               \"BiHybrid_03.1*\", \"BiHybrid_04*\", \"Combined*\", \"Combined_02*\"]\n",
    "chip_models = [\"BiHybrid_05*\", \"Combined*\", \"Combined_02*\"]\n",
    "atac_data = get_test_metrics([\"U_net_rep3\", \"Hybrid_rep2\", \"BiHybrid_rep1\", \"BiHybrid_02_rep1\", \"BiHybrid_03.1_rep2\",\n",
    "                              \"BiHybrid_03.2_rep2\",\"BiHybrid_03.1_rep2_filtered\", \"BiHybrid_04_rep3\", \"Combined_rep3\",\n",
    "                              \"Combined_02_rep2\"],\n",
    "                             \"atacseq\", species, \"results\")\n",
    "chip_data = get_test_metrics([\"BiHybrid_05_rep1\", \"Combined_rep3\", \"Combined_02_rep2\"], \"h3k4me3\", species, \"results\")"
   ]
  },
  {
   "cell_type": "code",
   "execution_count": 12,
   "id": "7332c2c2",
   "metadata": {},
   "outputs": [
    {
     "data": {
      "image/png": "[encoded data removed]",
      "text/plain": [
       "<Figure size 840x600 with 2 Axes>"
      ]
     },
     "metadata": {
      "needs_background": "light"
     },
     "output_type": "display_data"
    }
   ],
   "source": [
    "plot_heatmap(atac_data, \"plasma\", atac_models, [\"A. thaliana\", \"O. sativa\"],\n",
    "             figsize=(14, 10), dpi=60, yaxis=True, square=True, fsize=22)"
   ]
  },
  {
   "cell_type": "code",
   "execution_count": 13,
   "id": "5890ee21",
   "metadata": {},
   "outputs": [
    {
     "data": {
      "image/png": "[encoded data removed]",
      "text/plain": [
       "<Figure size 480x360 with 2 Axes>"
      ]
     },
     "metadata": {
      "needs_background": "light"
     },
     "output_type": "display_data"
    }
   ],
   "source": [
    "plot_heatmap(chip_data, \"plasma\", chip_models, [\"A. thaliana\", \"O. sativa\"],\n",
    "             figsize=(8, 6), dpi=60, yaxis=True, square=True, fsize=22)"
   ]
  },
  {
   "cell_type": "markdown",
   "id": "9c4d1536",
   "metadata": {},
   "source": [
    "## 3. Intra-species and leave-one-out cross validation models\n",
    "For these models, instead of training three replicates, just one model was trained.    \n",
    "    \n",
    "### Prefixes\n",
    "|Prefix    |Decription/Final model name                                        |\n",
    "|:---------|:------------------------------------------------------------------|\n",
    "|achi_l1o  |Leave-one out cross validation; validation set: _A. chinensis_     |\n",
    "|athali_l1o|Leave-one out cross validation; validation set: _A. thaliana_      |\n",
    "|bdist_l1o |Leave-one out cross validation; validation set: _B. distachyon_    |\n",
    "|bnap_l1o  |Leave-one out cross validation; validation set: _B. napus_         |\n",
    "|bnat_l1o  |Leave-one out cross validation; validation set: _B. natans_        |\n",
    "|bol_l1o   |Leave-one out cross validation; validation set: _B. oleracea_      |\n",
    "|bra_l1o   |Leave-one out cross validation; validation set: _B. rapa_          |\n",
    "|cr_l1o    |Leave-one out cross validation; validation set: _C. reinhardtii_   |\n",
    "|enin_l1o  |Leave-one out cross validation; validation set: _E. nindensis_     |\n",
    "|gmax_l1o  |Leave-one out cross validation; validation set: _G. max_           |\n",
    "|mdom_l1o  |Leave-one out cross validation; validation set: _M. domestica_     |\n",
    "|mpoly_l1o |Leave-one out cross validation; validation set: _M. polymorpha_    |\n",
    "|mtrunc_l1o|Leave-one out cross validation; validation set: _M. truncatula_    |\n",
    "|obra_l1o  |Leave-one out cross validation; validation set: _O. brachyantha_   |\n",
    "|osat_l1o  |Leave-one out cross validation; validation set: _O. sativa_        |\n",
    "|otho_l1o  |Leave-one out cross validation; validation set: _O. thomaeum_      |\n",
    "|pb_l1o    |Leave-one out cross validation; validation set: _P. bretschneideri_|\n",
    "|pmili_l1o |Leave-one out cross validation; validation set: _P. miliaceum_     |\n",
    "|pp_l1o    |Leave-one out cross validation; validation set: _P. persica_       |\n",
    "|sbi_l1o   |Leave-one out cross validation; validation set: _S. bicolor_       |\n",
    "|sind_l1o  |Leave-one out cross validation; validation set: _S. indicum_       |\n",
    "|sit_l1o   |Leave-one out cross validation; validation set: _S. italica_       |\n",
    "|slyco_l1o |Leave-one out cross validation; validation set: _S. lycopersicum_  |\n",
    "|spoly_l1o |Leave-one out cross validation; validation set: _S. polyrhiza_     |\n",
    "|zmays_l1o |Leave-one out cross validation; validation set: _Z. mays_          |\n",
    "|inter_10  |IS_10 (10 % of each species dataset is used for validation)        |\n",
    "|inter_20  |IS_20 (20 % of each species dataset is used for validation)        |"
   ]
  },
  {
   "cell_type": "code",
   "execution_count": 14,
   "id": "80dd26d7",
   "metadata": {},
   "outputs": [],
   "source": [
    "def prep_single_metrics(prefixes, types, input_dir, epochs=None):\n",
    "    metrics_dict = {}\n",
    "    for i, prefix in enumerate(prefixes):\n",
    "        path = os.path.join(input_dir, f\"{prefix}_metrics.log\")\n",
    "        # 0:epochs, 1: avg_val_loss, 2: avg_val_accuracy, 3: avg_train_loss, 4: avg_train_accuracy\n",
    "        metrics = np.loadtxt(path, skiprows=1)\n",
    "        if epochs is not None:\n",
    "            if epochs < metrics.shape[0]:\n",
    "                metrics = metrics[:epochs]\n",
    "\n",
    "            elif metrics.shape[0] < epochs: # extend length to concatenate\n",
    "                add = np.full((epochs-metrics.shape[0],5), fill_value=np.nan, dtype=np.float32)\n",
    "                metrics = np.concatenate([metrics, add])\n",
    "            all_metrics.append(np.expand_dims(metrics, axis=2))\n",
    "        metrics_dict[types[i]] = metrics\n",
    "    return metrics_dict"
   ]
  },
  {
   "cell_type": "code",
   "execution_count": 15,
   "id": "09d18526",
   "metadata": {},
   "outputs": [],
   "source": [
    "def print_single_stats(metrics_dict):\n",
    "    space = 15\n",
    "    infos = {\"header\": [\"Model name\", \"Best val corr\", \"Epoch\", \"Total epochs\"]}\n",
    "    for key in metrics_dict.keys():\n",
    "        # maximum average validation Pearson correlation of all replicates\n",
    "        max_ = np.nanmax(metrics_dict[key][:, 2])\n",
    "        location = np.where(metrics_dict[key][:,2] == max_)\n",
    "        infos[key] = [key, f\"{max_:.4f}\", str(int(location[0])), str(int(metrics_dict[key][:, 0][-1]))]\n",
    "    \n",
    "    keys = list(metrics_dict.keys())\n",
    "        \n",
    "    for key in infos.keys():\n",
    "        if key == \"header\":\n",
    "            table(infos[key], space, header=True)\n",
    "        else:\n",
    "            table(infos[key], space)\n",
    "        \n",
    "def table(contents, spacing, header=False):\n",
    "    contents = [f\"{i: <{spacing}}\" if len(i) <= spacing else i[:spacing - 2] + \"..\" for i in contents]\n",
    "    msg = \"|\".join(contents)\n",
    "    if header:\n",
    "        msg = msg + \"\\n\" + \"-\" * len(msg)\n",
    "    print(msg)"
   ]
  },
  {
   "cell_type": "code",
   "execution_count": 16,
   "id": "a6edb6b4",
   "metadata": {},
   "outputs": [
    {
     "name": "stdout",
     "output_type": "stream",
     "text": [
      "Model name     |Best val corr  |Epoch          |Total epochs   \n",
      "---------------------------------------------------------------\n",
      "achi_l1o       |0.4251         |50             |84             \n",
      "athali_l1o     |0.7083         |56             |84             \n",
      "bdist_l1o      |0.6674         |18             |64             \n",
      "bnap_l1o       |0.5271         |36             |63             \n",
      "bnat_l1o       |0.1247         |35             |62             \n",
      "bol_l1o        |0.5789         |47             |64             \n",
      "bra_l1o        |0.6509         |56             |79             \n",
      "cr_l1o         |-0.0379        |67             |79             \n",
      "enin_l1o       |0.3956         |31             |66             \n",
      "gmax_l1o       |0.5041         |38             |66             \n",
      "mdom_l1o       |0.4182         |38             |64             \n",
      "mpoly_l1o      |0.4474         |24             |66             \n",
      "mtrunc_l1o     |0.4717         |19             |63             \n",
      "obra_l1o       |0.7862         |6              |65             \n",
      "osat_l1o       |0.6019         |40             |67             \n",
      "otho_l1o       |0.5818         |59             |90             \n",
      "pb_l1o         |0.5905         |3              |60             \n",
      "pmili_l1o      |0.4352         |88             |111            \n",
      "pp_l1o         |0.6724         |25             |64             \n",
      "sbi_l1o        |0.5658         |29             |64             \n",
      "sind_l1o       |0.7435         |21             |65             \n",
      "sit_l1o        |0.6289         |48             |66             \n",
      "slyco_l1o      |0.3756         |32             |67             \n",
      "spoly_l1o      |0.5652         |13             |67             \n",
      "zmays_l1o      |0.2717         |57             |99             \n",
      "inter_10       |0.5852         |68             |107            \n",
      "inter_20       |0.5851         |109            |121            \n"
     ]
    }
   ],
   "source": [
    "l1o = [\"achi_l1o\", \"athali_l1o\", \"bdist_l1o\", \"bnap_l1o\", \"bnat_l1o\", \"bol_l1o\", \"bra_l1o\", \"cr_l1o\", \"enin_l1o\",\n",
    "       \"gmax_l1o\", \"mdom_l1o\", \"mpoly_l1o\", \"mtrunc_l1o\", \"obra_l1o\", \"osat_l1o\", \"otho_l1o\", \"pb_l1o\", \"pmili_l1o\",\n",
    "       \"pp_l1o\", \"sbi_l1o\", \"sind_l1o\", \"sit_l1o\", \"slyco_l1o\", \"spoly_l1o\", \"zmays_l1o\", \"inter_10\", \"inter_20\"]\n",
    "metrics = prep_single_metrics(l1o, l1o, \"../paper/results\")\n",
    "print_single_stats(metrics)"
   ]
  },
  {
   "cell_type": "code",
   "execution_count": null,
   "id": "d72abbee",
   "metadata": {},
   "outputs": [],
   "source": []
  }
 ],
 "metadata": {
  "kernelspec": {
   "display_name": "Python 3",
   "language": "python",
   "name": "python3"
  },
  "language_info": {
   "codemirror_mode": {
    "name": "ipython",
    "version": 3
   },
   "file_extension": ".py",
   "mimetype": "text/x-python",
   "name": "python",
   "nbconvert_exporter": "python",
   "pygments_lexer": "ipython3",
   "version": "3.8.8"
  }
 },
 "nbformat": 4,
 "nbformat_minor": 5
}
